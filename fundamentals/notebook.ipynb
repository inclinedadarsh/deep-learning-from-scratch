{
 "cells": [
  {
   "cell_type": "code",
   "execution_count": 1,
   "id": "cbd9d239-94d0-4b96-a06b-fc9382fa8482",
   "metadata": {},
   "outputs": [],
   "source": [
    "import numpy as np\n",
    "from numpy import ndarray\n",
    "\n",
    "from typing import Dict, Tuple"
   ]
  },
  {
   "cell_type": "code",
   "execution_count": 3,
   "id": "cfa36fb1-07cd-4c48-8bc2-e7858bbefe90",
   "metadata": {},
   "outputs": [],
   "source": [
    "def forward_linear_regression(X: ndarray,\n",
    "                              y: ndarray,\n",
    "                              weights: Dict[str, ndarray]) -> Tuple[float, Dict[str, ndarray]]:\n",
    "    \"\"\"\n",
    "    Forward pass for the step-by-step linear regression.\n",
    "    \"\"\"\n",
    "    assert X.shape[0] == y.shape[0], \\\n",
    "    \"The size (or number of examples) in X and y should be same\"\n",
    "\n",
    "    assert weights['b'].shape[0] == weights['b'].shape[1] == 1\n",
    "\n",
    "    Z = np.dot(X, weights['W']) + weights['b']\n",
    "    loss = np.mean(np.power(y - Z, 2))\n",
    "\n",
    "    forward_info: Dict[str, ndarray] = {}\n",
    "    forward_info['X'] = X\n",
    "    forward_info['Z'] = Z\n",
    "    forward_info['loss'] = loss\n",
    "    forward_info['y'] = y\n",
    "\n",
    "    return loss, forward_info"
   ]
  },
  {
   "cell_type": "code",
   "execution_count": 4,
   "id": "1502b8be-47f6-4eca-ba96-7bd157a27e46",
   "metadata": {},
   "outputs": [],
   "source": [
    "def loss_gradients(forward_info: Dict[str, ndarray],\n",
    "                   weights: Dict[str, ndarray]) -> Dict[str, ndarray]:\n",
    "    \"\"\"\n",
    "    Compute dLdW and dLdb for the step-by-step linear regression model.\n",
    "    \"\"\"\n",
    "    batch_size = forward_info['X'].shape[0]\n",
    "\n",
    "    dLdZ = -2 * (forward_info['y'] - forward_info['Z'])\n",
    "    dLdb = dLdZ.sum(axis=0)\n",
    "\n",
    "    dZdW = forward_info['X'].T\n",
    "    dLdW = np.dot(dZdW, dLdZ)\n",
    "\n",
    "    grads: Dict[str, ndarray] = {}\n",
    "    grads['dW'] = dLdW\n",
    "    grads['db'] = dLdb\n",
    "\n",
    "    return grads"
   ]
  },
  {
   "cell_type": "code",
   "execution_count": null,
   "id": "5e132d15-5d09-4d40-8f36-2a86ff6432f8",
   "metadata": {},
   "outputs": [],
   "source": []
  }
 ],
 "metadata": {
  "kernelspec": {
   "display_name": "Python 3 (ipykernel)",
   "language": "python",
   "name": "python3"
  },
  "language_info": {
   "codemirror_mode": {
    "name": "ipython",
    "version": 3
   },
   "file_extension": ".py",
   "mimetype": "text/x-python",
   "name": "python",
   "nbconvert_exporter": "python",
   "pygments_lexer": "ipython3",
   "version": "3.12.2"
  }
 },
 "nbformat": 4,
 "nbformat_minor": 5
}
